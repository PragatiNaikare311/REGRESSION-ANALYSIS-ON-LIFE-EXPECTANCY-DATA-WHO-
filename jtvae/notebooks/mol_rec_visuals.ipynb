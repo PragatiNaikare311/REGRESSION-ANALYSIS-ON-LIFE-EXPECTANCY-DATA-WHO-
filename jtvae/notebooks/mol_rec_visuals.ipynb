{
 "cells": [
  {
   "cell_type": "code",
   "execution_count": 1,
   "metadata": {},
   "outputs": [],
   "source": [
    "from rdkit import Chem\n",
    "from rdkit.Chem import Draw\n",
    "from rdkit.Chem.Draw import rdMolDraw2D\n",
    "import cairosvg, os"
   ]
  },
  {
   "cell_type": "code",
   "execution_count": 2,
   "metadata": {},
   "outputs": [],
   "source": [
    "# https://stackoverflow.com/questions/61659643/rdkit-how-to-draw-high-resolution-chemical-structure\n",
    "# Example:\n",
    "# m = Chem.MolFromSmiles('Cn1cnc2n(C)c(=O)n(C)c(=O)c12')\n",
    "# molecule_to_pdf(m, \"myfav.pdf\")\n",
    "def molecule_to_pdf(smile, file_name, width=300, height=300):\n",
    "    \"\"\"Save substance structure as PDF\"\"\"\n",
    "    mol = Chem.MolFromSmiles(smile)\n",
    "    # Render high resolution molecule\n",
    "    drawer = rdMolDraw2D.MolDraw2DSVG(width, height)\n",
    "    drawer.DrawMolecule(mol)\n",
    "    drawer.FinishDrawing()\n",
    "\n",
    "    # Export to pdf\n",
    "    cairosvg.svg2pdf(bytestring=drawer.GetDrawingText().encode(), write_to=f\"{file_name}.pdf\")"
   ]
  },
  {
   "cell_type": "code",
   "execution_count": 3,
   "metadata": {},
   "outputs": [],
   "source": [
    "with open(\"test_reconstructions.txt\", \"r\") as f:\n",
    "    reconstructions = [pair.split(\",\") for pair in f.read().split(\"\\n\")]"
   ]
  },
  {
   "cell_type": "code",
   "execution_count": 11,
   "metadata": {},
   "outputs": [],
   "source": [
    "for input_smile, recon_smile in reconstructions:\n",
    "    dirname = os.path.join(\"reconstruction_visualizations\", input_smile.replace('/', '<forward slash>'))\n",
    "    os.makedirs(dirname, exist_ok=True)\n",
    "    molecule_to_pdf(input_smile, os.path.join(dirname, f\"original_{input_smile.replace('/', '<forward slash>')}\"))\n",
    "    molecule_to_pdf(recon_smile, os.path.join(dirname, f\"recon_{recon_smile.replace('/', '<forward slash>')}\"))"
   ]
  },
  {
   "cell_type": "code",
   "execution_count": 9,
   "metadata": {},
   "outputs": [],
   "source": [
    "with open(\"recommendations.txt\", \"r\") as f:\n",
    "    recommendations = [pair.split(\",\") for pair in f.read().split(\"\\n\")]"
   ]
  },
  {
   "cell_type": "code",
   "execution_count": 21,
   "metadata": {},
   "outputs": [],
   "source": []
  },
  {
   "cell_type": "code",
   "execution_count": null,
   "metadata": {},
   "outputs": [],
   "source": []
  }
 ],
 "metadata": {
  "kernelspec": {
   "display_name": "rdkit",
   "language": "python",
   "name": "rdkit"
  },
  "language_info": {
   "codemirror_mode": {
    "name": "ipython",
    "version": 3
   },
   "file_extension": ".py",
   "mimetype": "text/x-python",
   "name": "python",
   "nbconvert_exporter": "python",
   "pygments_lexer": "ipython3",
   "version": "3.8.19"
  }
 },
 "nbformat": 4,
 "nbformat_minor": 2
}
